{
 "cells": [
  {
   "cell_type": "markdown",
   "id": "83341b71",
   "metadata": {},
   "source": [
    "# Techniques d'anonymisation"
   ]
  },
  {
   "cell_type": "markdown",
   "id": "3340818a",
   "metadata": {},
   "source": [
    " <font color='red'>1- Maskage de valeurs d'attribut</font> \n"
   ]
  },
  {
   "cell_type": "markdown",
   "id": "78daede6",
   "metadata": {},
   "source": [
    "***\n",
    "Analysons les periodes de livraison selon l’adresse et le nombre de colis;\n",
    "En considérant le fichier data_livraison.csv, procédons en suite au maskage de l’attribut code_postal. Le\n",
    "format en sortie serait de la forme : ZY* *** où ZY sont les deux premiers digits du code postal\n",
    "original.\n",
    "\n",
    "***"
   ]
  },
  {
   "cell_type": "code",
   "execution_count": 2,
   "id": "a5a42efd",
   "metadata": {},
   "outputs": [
    {
     "data": {
      "text/html": [
       "<div>\n",
       "<style scoped>\n",
       "    .dataframe tbody tr th:only-of-type {\n",
       "        vertical-align: middle;\n",
       "    }\n",
       "\n",
       "    .dataframe tbody tr th {\n",
       "        vertical-align: top;\n",
       "    }\n",
       "\n",
       "    .dataframe thead th {\n",
       "        text-align: right;\n",
       "    }\n",
       "</style>\n",
       "<table border=\"1\" class=\"dataframe\">\n",
       "  <thead>\n",
       "    <tr style=\"text-align: right;\">\n",
       "      <th></th>\n",
       "      <th>code postal</th>\n",
       "      <th>periode livraison</th>\n",
       "      <th>nombre colis</th>\n",
       "    </tr>\n",
       "  </thead>\n",
       "  <tbody>\n",
       "    <tr>\n",
       "      <th>0</th>\n",
       "      <td>G1X 3S7</td>\n",
       "      <td>10H-12H</td>\n",
       "      <td>2</td>\n",
       "    </tr>\n",
       "    <tr>\n",
       "      <th>1</th>\n",
       "      <td>G2H5 5K3</td>\n",
       "      <td>27F-21H</td>\n",
       "      <td>4</td>\n",
       "    </tr>\n",
       "    <tr>\n",
       "      <th>2</th>\n",
       "      <td>G1W 5K3</td>\n",
       "      <td>19H-28X</td>\n",
       "      <td>1</td>\n",
       "    </tr>\n",
       "  </tbody>\n",
       "</table>\n",
       "</div>"
      ],
      "text/plain": [
       "  code postal periode livraison  nombre colis\n",
       "0     G1X 3S7           10H-12H             2\n",
       "1    G2H5 5K3           27F-21H             4\n",
       "2     G1W 5K3           19H-28X             1"
      ]
     },
     "execution_count": 2,
     "metadata": {},
     "output_type": "execute_result"
    }
   ],
   "source": [
    "import pandas as pd\n",
    "df = pd.read_csv(\"data_livraison.csv\")\n",
    "df"
   ]
  },
  {
   "cell_type": "markdown",
   "id": "c29464b6",
   "metadata": {},
   "source": [
    "* masker le code postal sur <font color='red'>2 digits</font> \n"
   ]
  },
  {
   "cell_type": "code",
   "execution_count": 4,
   "id": "af7c9610",
   "metadata": {},
   "outputs": [
    {
     "data": {
      "text/html": [
       "<div>\n",
       "<style scoped>\n",
       "    .dataframe tbody tr th:only-of-type {\n",
       "        vertical-align: middle;\n",
       "    }\n",
       "\n",
       "    .dataframe tbody tr th {\n",
       "        vertical-align: top;\n",
       "    }\n",
       "\n",
       "    .dataframe thead th {\n",
       "        text-align: right;\n",
       "    }\n",
       "</style>\n",
       "<table border=\"1\" class=\"dataframe\">\n",
       "  <thead>\n",
       "    <tr style=\"text-align: right;\">\n",
       "      <th></th>\n",
       "      <th>code postal</th>\n",
       "      <th>periode livraison</th>\n",
       "      <th>nombre colis</th>\n",
       "      <th>code</th>\n",
       "    </tr>\n",
       "  </thead>\n",
       "  <tbody>\n",
       "    <tr>\n",
       "      <th>0</th>\n",
       "      <td>G1X 3S7</td>\n",
       "      <td>10H-12H</td>\n",
       "      <td>2</td>\n",
       "      <td>G1* ***</td>\n",
       "    </tr>\n",
       "    <tr>\n",
       "      <th>1</th>\n",
       "      <td>G2H5 5K3</td>\n",
       "      <td>27F-21H</td>\n",
       "      <td>4</td>\n",
       "      <td>G2* ***</td>\n",
       "    </tr>\n",
       "    <tr>\n",
       "      <th>2</th>\n",
       "      <td>G1W 5K3</td>\n",
       "      <td>19H-28X</td>\n",
       "      <td>1</td>\n",
       "      <td>G1* ***</td>\n",
       "    </tr>\n",
       "  </tbody>\n",
       "</table>\n",
       "</div>"
      ],
      "text/plain": [
       "  code postal periode livraison  nombre colis     code\n",
       "0     G1X 3S7           10H-12H             2  G1* ***\n",
       "1    G2H5 5K3           27F-21H             4  G2* ***\n",
       "2     G1W 5K3           19H-28X             1  G1* ***"
      ]
     },
     "execution_count": 4,
     "metadata": {},
     "output_type": "execute_result"
    }
   ],
   "source": [
    "df[\"code\"] = df[\"code postal\"].map(lambda x: x[0:2] +\"* ***\")\n",
    "\n",
    "#df[\"code postal\"] = df[\"code postal\"].replace(to_replace ='[H]', value = '* ***', regex = True)\n",
    "\n",
    "df"
   ]
  },
  {
   "cell_type": "markdown",
   "id": "42462de0",
   "metadata": {},
   "source": [
    "<font color='red'> 2- Utilisation de pseudonyme </font> "
   ]
  },
  {
   "cell_type": "markdown",
   "id": "9d4b4b9d",
   "metadata": {},
   "source": [
    "***\n",
    "Procédons à la suppression de l’attribut PATIENT par la recherche  de l’effet du reactif, en termes du résultat\n",
    "ou score sur les patients dans le jeu données le fichier data_patient.csv\n",
    "***"
   ]
  },
  {
   "cell_type": "markdown",
   "id": "4ac1057b",
   "metadata": {},
   "source": [
    "<font color='red'> 2-1  Utilisation de pseudonyme à 1 niveau </font> "
   ]
  },
  {
   "cell_type": "code",
   "execution_count": 7,
   "id": "d4e587c2",
   "metadata": {},
   "outputs": [
    {
     "data": {
      "text/html": [
       "<div>\n",
       "<style scoped>\n",
       "    .dataframe tbody tr th:only-of-type {\n",
       "        vertical-align: middle;\n",
       "    }\n",
       "\n",
       "    .dataframe tbody tr th {\n",
       "        vertical-align: top;\n",
       "    }\n",
       "\n",
       "    .dataframe thead th {\n",
       "        text-align: right;\n",
       "    }\n",
       "</style>\n",
       "<table border=\"1\" class=\"dataframe\">\n",
       "  <thead>\n",
       "    <tr style=\"text-align: right;\">\n",
       "      <th></th>\n",
       "      <th>patient</th>\n",
       "      <th>reactif</th>\n",
       "      <th>resultat</th>\n",
       "    </tr>\n",
       "  </thead>\n",
       "  <tbody>\n",
       "    <tr>\n",
       "      <th>0</th>\n",
       "      <td>Fabrice Laprise</td>\n",
       "      <td>A</td>\n",
       "      <td>79</td>\n",
       "    </tr>\n",
       "    <tr>\n",
       "      <th>1</th>\n",
       "      <td>Eric Cloutier</td>\n",
       "      <td>A</td>\n",
       "      <td>81</td>\n",
       "    </tr>\n",
       "    <tr>\n",
       "      <th>2</th>\n",
       "      <td>Annie Houle</td>\n",
       "      <td>B</td>\n",
       "      <td>47</td>\n",
       "    </tr>\n",
       "  </tbody>\n",
       "</table>\n",
       "</div>"
      ],
      "text/plain": [
       "           patient reactif  resultat\n",
       "0  Fabrice Laprise       A        79\n",
       "1    Eric Cloutier       A        81\n",
       "2      Annie Houle       B        47"
      ]
     },
     "execution_count": 7,
     "metadata": {},
     "output_type": "execute_result"
    }
   ],
   "source": [
    "import pandas as pd\n",
    "df = pd.read_csv(\"reactif_patient.csv\")\n",
    "df"
   ]
  },
  {
   "cell_type": "code",
   "execution_count": 8,
   "id": "28a31cb5",
   "metadata": {},
   "outputs": [
    {
     "data": {
      "text/html": [
       "<div>\n",
       "<style scoped>\n",
       "    .dataframe tbody tr th:only-of-type {\n",
       "        vertical-align: middle;\n",
       "    }\n",
       "\n",
       "    .dataframe tbody tr th {\n",
       "        vertical-align: top;\n",
       "    }\n",
       "\n",
       "    .dataframe thead th {\n",
       "        text-align: right;\n",
       "    }\n",
       "</style>\n",
       "<table border=\"1\" class=\"dataframe\">\n",
       "  <thead>\n",
       "    <tr style=\"text-align: right;\">\n",
       "      <th></th>\n",
       "      <th>patient</th>\n",
       "      <th>pseudonyme</th>\n",
       "    </tr>\n",
       "  </thead>\n",
       "  <tbody>\n",
       "    <tr>\n",
       "      <th>0</th>\n",
       "      <td>Fabrice Laprise</td>\n",
       "      <td>6825</td>\n",
       "    </tr>\n",
       "    <tr>\n",
       "      <th>1</th>\n",
       "      <td>Eric Cloutier</td>\n",
       "      <td>4514</td>\n",
       "    </tr>\n",
       "    <tr>\n",
       "      <th>2</th>\n",
       "      <td>Annie Houle</td>\n",
       "      <td>6728</td>\n",
       "    </tr>\n",
       "  </tbody>\n",
       "</table>\n",
       "</div>"
      ],
      "text/plain": [
       "           patient  pseudonyme\n",
       "0  Fabrice Laprise        6825\n",
       "1    Eric Cloutier        4514\n",
       "2      Annie Houle        6728"
      ]
     },
     "execution_count": 8,
     "metadata": {},
     "output_type": "execute_result"
    }
   ],
   "source": [
    "#Déclarer la table de correspondance\n",
    "d = {'patient':['Fabrice Laprise','Eric Cloutier','Annie Houle'],'pseudonyme':[6825,4514,6728]}\n",
    "table_cor = pd.DataFrame(d)\n",
    "table_cor"
   ]
  },
  {
   "cell_type": "code",
   "execution_count": 9,
   "id": "d6c5d837",
   "metadata": {},
   "outputs": [
    {
     "data": {
      "text/html": [
       "<div>\n",
       "<style scoped>\n",
       "    .dataframe tbody tr th:only-of-type {\n",
       "        vertical-align: middle;\n",
       "    }\n",
       "\n",
       "    .dataframe tbody tr th {\n",
       "        vertical-align: top;\n",
       "    }\n",
       "\n",
       "    .dataframe thead th {\n",
       "        text-align: right;\n",
       "    }\n",
       "</style>\n",
       "<table border=\"1\" class=\"dataframe\">\n",
       "  <thead>\n",
       "    <tr style=\"text-align: right;\">\n",
       "      <th></th>\n",
       "      <th>patient</th>\n",
       "      <th>reactif</th>\n",
       "      <th>resultat</th>\n",
       "      <th>pseudonyme</th>\n",
       "    </tr>\n",
       "  </thead>\n",
       "  <tbody>\n",
       "    <tr>\n",
       "      <th>0</th>\n",
       "      <td>Fabrice Laprise</td>\n",
       "      <td>A</td>\n",
       "      <td>79</td>\n",
       "      <td>6825</td>\n",
       "    </tr>\n",
       "    <tr>\n",
       "      <th>1</th>\n",
       "      <td>Eric Cloutier</td>\n",
       "      <td>A</td>\n",
       "      <td>81</td>\n",
       "      <td>4514</td>\n",
       "    </tr>\n",
       "    <tr>\n",
       "      <th>2</th>\n",
       "      <td>Annie Houle</td>\n",
       "      <td>B</td>\n",
       "      <td>47</td>\n",
       "      <td>6728</td>\n",
       "    </tr>\n",
       "  </tbody>\n",
       "</table>\n",
       "</div>"
      ],
      "text/plain": [
       "           patient reactif  resultat  pseudonyme\n",
       "0  Fabrice Laprise       A        79        6825\n",
       "1    Eric Cloutier       A        81        4514\n",
       "2      Annie Houle       B        47        6728"
      ]
     },
     "execution_count": 9,
     "metadata": {},
     "output_type": "execute_result"
    }
   ],
   "source": [
    "#anonymiser en effectuant un merge\n",
    "res = pd.merge(df, table_cor)\n",
    "res"
   ]
  },
  {
   "cell_type": "code",
   "execution_count": 10,
   "id": "73099430",
   "metadata": {},
   "outputs": [
    {
     "data": {
      "text/html": [
       "<div>\n",
       "<style scoped>\n",
       "    .dataframe tbody tr th:only-of-type {\n",
       "        vertical-align: middle;\n",
       "    }\n",
       "\n",
       "    .dataframe tbody tr th {\n",
       "        vertical-align: top;\n",
       "    }\n",
       "\n",
       "    .dataframe thead th {\n",
       "        text-align: right;\n",
       "    }\n",
       "</style>\n",
       "<table border=\"1\" class=\"dataframe\">\n",
       "  <thead>\n",
       "    <tr style=\"text-align: right;\">\n",
       "      <th></th>\n",
       "      <th>reactif</th>\n",
       "      <th>resultat</th>\n",
       "      <th>pseudonyme</th>\n",
       "    </tr>\n",
       "  </thead>\n",
       "  <tbody>\n",
       "    <tr>\n",
       "      <th>0</th>\n",
       "      <td>A</td>\n",
       "      <td>79</td>\n",
       "      <td>6825</td>\n",
       "    </tr>\n",
       "    <tr>\n",
       "      <th>1</th>\n",
       "      <td>A</td>\n",
       "      <td>81</td>\n",
       "      <td>4514</td>\n",
       "    </tr>\n",
       "    <tr>\n",
       "      <th>2</th>\n",
       "      <td>B</td>\n",
       "      <td>47</td>\n",
       "      <td>6728</td>\n",
       "    </tr>\n",
       "  </tbody>\n",
       "</table>\n",
       "</div>"
      ],
      "text/plain": [
       "  reactif  resultat  pseudonyme\n",
       "0       A        79        6825\n",
       "1       A        81        4514\n",
       "2       B        47        6728"
      ]
     },
     "execution_count": 10,
     "metadata": {},
     "output_type": "execute_result"
    }
   ],
   "source": [
    "#anonymiser en effectuant un merge avec une suppression de la serie patient\n",
    "res = pd.merge(df, table_cor).drop('patient', axis=1)\n",
    "res"
   ]
  },
  {
   "cell_type": "code",
   "execution_count": 11,
   "id": "fef8d75b",
   "metadata": {},
   "outputs": [
    {
     "data": {
      "text/html": [
       "<div>\n",
       "<style scoped>\n",
       "    .dataframe tbody tr th:only-of-type {\n",
       "        vertical-align: middle;\n",
       "    }\n",
       "\n",
       "    .dataframe tbody tr th {\n",
       "        vertical-align: top;\n",
       "    }\n",
       "\n",
       "    .dataframe thead th {\n",
       "        text-align: right;\n",
       "    }\n",
       "</style>\n",
       "<table border=\"1\" class=\"dataframe\">\n",
       "  <thead>\n",
       "    <tr style=\"text-align: right;\">\n",
       "      <th></th>\n",
       "      <th>reactif</th>\n",
       "      <th>resultat</th>\n",
       "      <th>patient</th>\n",
       "    </tr>\n",
       "  </thead>\n",
       "  <tbody>\n",
       "    <tr>\n",
       "      <th>0</th>\n",
       "      <td>A</td>\n",
       "      <td>79</td>\n",
       "      <td>6825</td>\n",
       "    </tr>\n",
       "    <tr>\n",
       "      <th>1</th>\n",
       "      <td>A</td>\n",
       "      <td>81</td>\n",
       "      <td>4514</td>\n",
       "    </tr>\n",
       "    <tr>\n",
       "      <th>2</th>\n",
       "      <td>B</td>\n",
       "      <td>47</td>\n",
       "      <td>6728</td>\n",
       "    </tr>\n",
       "  </tbody>\n",
       "</table>\n",
       "</div>"
      ],
      "text/plain": [
       "  reactif  resultat  patient\n",
       "0       A        79     6825\n",
       "1       A        81     4514\n",
       "2       B        47     6728"
      ]
     },
     "execution_count": 11,
     "metadata": {},
     "output_type": "execute_result"
    }
   ],
   "source": [
    "#renommer la serie pseudonyme vers patient\n",
    "res = res.rename(columns={'pseudonyme': 'patient'})\n",
    "res"
   ]
  },
  {
   "cell_type": "code",
   "execution_count": 12,
   "id": "1f27438b",
   "metadata": {},
   "outputs": [
    {
     "data": {
      "text/html": [
       "<div>\n",
       "<style scoped>\n",
       "    .dataframe tbody tr th:only-of-type {\n",
       "        vertical-align: middle;\n",
       "    }\n",
       "\n",
       "    .dataframe tbody tr th {\n",
       "        vertical-align: top;\n",
       "    }\n",
       "\n",
       "    .dataframe thead th {\n",
       "        text-align: right;\n",
       "    }\n",
       "</style>\n",
       "<table border=\"1\" class=\"dataframe\">\n",
       "  <thead>\n",
       "    <tr style=\"text-align: right;\">\n",
       "      <th></th>\n",
       "      <th>patient</th>\n",
       "      <th>reactif</th>\n",
       "      <th>resultat</th>\n",
       "    </tr>\n",
       "  </thead>\n",
       "  <tbody>\n",
       "    <tr>\n",
       "      <th>0</th>\n",
       "      <td>6825</td>\n",
       "      <td>A</td>\n",
       "      <td>79</td>\n",
       "    </tr>\n",
       "    <tr>\n",
       "      <th>1</th>\n",
       "      <td>4514</td>\n",
       "      <td>A</td>\n",
       "      <td>81</td>\n",
       "    </tr>\n",
       "    <tr>\n",
       "      <th>2</th>\n",
       "      <td>6728</td>\n",
       "      <td>B</td>\n",
       "      <td>47</td>\n",
       "    </tr>\n",
       "  </tbody>\n",
       "</table>\n",
       "</div>"
      ],
      "text/plain": [
       "   patient reactif  resultat\n",
       "0     6825       A        79\n",
       "1     4514       A        81\n",
       "2     6728       B        47"
      ]
     },
     "execution_count": 12,
     "metadata": {},
     "output_type": "execute_result"
    }
   ],
   "source": [
    "# Réarranger les colonnes en mettant patient en premier\n",
    "res = res[['patient', 'reactif', 'resultat']]\n",
    "res"
   ]
  },
  {
   "cell_type": "code",
   "execution_count": 13,
   "id": "aabf962a",
   "metadata": {},
   "outputs": [],
   "source": [
    "#sauvegarder le data transformé dqns un fichier de type csv\n",
    "res.to_csv(\"reactif_patient_anonyme.csv\", index=False)"
   ]
  },
  {
   "cell_type": "markdown",
   "id": "26c1e59d",
   "metadata": {},
   "source": [
    "<font color='red'> 2-é Utilisation de pseudonyme à 2 niveaux </font> "
   ]
  },
  {
   "cell_type": "markdown",
   "id": "041949e0",
   "metadata": {},
   "source": [
    "***\n",
    "En considérant le fichier reactif_patient.csv, procédons à la pseudonymisation de Patient. Selon une table\n",
    "de correspondance suivante :\n",
    "***\n",
    "\n",
    "| Patient | Pseudonyme |\n",
    "| --- | --- |\n",
    "| Fabrice Laprise | 6852 |\n",
    "| Eric Cloutier | 4514 |\n",
    "| Annie Houle | 6728 |"
   ]
  },
  {
   "cell_type": "code",
   "execution_count": 14,
   "id": "a292b347",
   "metadata": {},
   "outputs": [
    {
     "data": {
      "text/html": [
       "<div>\n",
       "<style scoped>\n",
       "    .dataframe tbody tr th:only-of-type {\n",
       "        vertical-align: middle;\n",
       "    }\n",
       "\n",
       "    .dataframe tbody tr th {\n",
       "        vertical-align: top;\n",
       "    }\n",
       "\n",
       "    .dataframe thead th {\n",
       "        text-align: right;\n",
       "    }\n",
       "</style>\n",
       "<table border=\"1\" class=\"dataframe\">\n",
       "  <thead>\n",
       "    <tr style=\"text-align: right;\">\n",
       "      <th></th>\n",
       "      <th>patient</th>\n",
       "      <th>lien</th>\n",
       "      <th>reactif</th>\n",
       "      <th>resultat</th>\n",
       "    </tr>\n",
       "  </thead>\n",
       "  <tbody>\n",
       "    <tr>\n",
       "      <th>0</th>\n",
       "      <td>Fabrice Laprise</td>\n",
       "      <td>MN815</td>\n",
       "      <td>A</td>\n",
       "      <td>79</td>\n",
       "    </tr>\n",
       "    <tr>\n",
       "      <th>1</th>\n",
       "      <td>Eric Cloutier</td>\n",
       "      <td>PS34M</td>\n",
       "      <td>A</td>\n",
       "      <td>81</td>\n",
       "    </tr>\n",
       "    <tr>\n",
       "      <th>2</th>\n",
       "      <td>Annie Houle</td>\n",
       "      <td>XD48T</td>\n",
       "      <td>B</td>\n",
       "      <td>47</td>\n",
       "    </tr>\n",
       "  </tbody>\n",
       "</table>\n",
       "</div>"
      ],
      "text/plain": [
       "           patient   lien reactif  resultat\n",
       "0  Fabrice Laprise  MN815       A        79\n",
       "1    Eric Cloutier  PS34M       A        81\n",
       "2      Annie Houle  XD48T       B        47"
      ]
     },
     "execution_count": 14,
     "metadata": {},
     "output_type": "execute_result"
    }
   ],
   "source": [
    "#Déclarer la table de pseudo lien\n",
    "d = {'patient':['Fabrice Laprise','Eric Cloutier','Annie Houle'],\n",
    "     'lien':[\"MN815\",\"PS34M\",\"XD48T\"]}\n",
    "table_cor = pd.DataFrame(d)\n",
    "table_cor = pd.merge(table_cor,df)\n",
    "table_cor"
   ]
  },
  {
   "cell_type": "code",
   "execution_count": 15,
   "id": "7ee8a449",
   "metadata": {},
   "outputs": [
    {
     "data": {
      "text/html": [
       "<div>\n",
       "<style scoped>\n",
       "    .dataframe tbody tr th:only-of-type {\n",
       "        vertical-align: middle;\n",
       "    }\n",
       "\n",
       "    .dataframe tbody tr th {\n",
       "        vertical-align: top;\n",
       "    }\n",
       "\n",
       "    .dataframe thead th {\n",
       "        text-align: right;\n",
       "    }\n",
       "</style>\n",
       "<table border=\"1\" class=\"dataframe\">\n",
       "  <thead>\n",
       "    <tr style=\"text-align: right;\">\n",
       "      <th></th>\n",
       "      <th>lien</th>\n",
       "      <th>pseudonyme</th>\n",
       "    </tr>\n",
       "  </thead>\n",
       "  <tbody>\n",
       "    <tr>\n",
       "      <th>0</th>\n",
       "      <td>MN815</td>\n",
       "      <td>6825</td>\n",
       "    </tr>\n",
       "    <tr>\n",
       "      <th>1</th>\n",
       "      <td>PS34M</td>\n",
       "      <td>4514</td>\n",
       "    </tr>\n",
       "    <tr>\n",
       "      <th>2</th>\n",
       "      <td>XD48T</td>\n",
       "      <td>6728</td>\n",
       "    </tr>\n",
       "  </tbody>\n",
       "</table>\n",
       "</div>"
      ],
      "text/plain": [
       "    lien  pseudonyme\n",
       "0  MN815        6825\n",
       "1  PS34M        4514\n",
       "2  XD48T        6728"
      ]
     },
     "execution_count": 15,
     "metadata": {},
     "output_type": "execute_result"
    }
   ],
   "source": [
    "#Déclarer la table de pseudo\n",
    "d = {'lien':[\"MN815\",\"PS34M\",\"XD48T\"],'pseudonyme':[6825,4514,6728]}\n",
    "table_pseudo = pd.DataFrame(d)\n",
    "table_pseudo"
   ]
  },
  {
   "cell_type": "code",
   "execution_count": 34,
   "id": "50d43e28",
   "metadata": {},
   "outputs": [
    {
     "data": {
      "text/html": [
       "<div>\n",
       "<style scoped>\n",
       "    .dataframe tbody tr th:only-of-type {\n",
       "        vertical-align: middle;\n",
       "    }\n",
       "\n",
       "    .dataframe tbody tr th {\n",
       "        vertical-align: top;\n",
       "    }\n",
       "\n",
       "    .dataframe thead th {\n",
       "        text-align: right;\n",
       "    }\n",
       "</style>\n",
       "<table border=\"1\" class=\"dataframe\">\n",
       "  <thead>\n",
       "    <tr style=\"text-align: right;\">\n",
       "      <th></th>\n",
       "      <th>patient</th>\n",
       "      <th>lien</th>\n",
       "      <th>reactif</th>\n",
       "      <th>resultat</th>\n",
       "      <th>pseudonyme</th>\n",
       "    </tr>\n",
       "  </thead>\n",
       "  <tbody>\n",
       "    <tr>\n",
       "      <th>0</th>\n",
       "      <td>Fabrice Laprise</td>\n",
       "      <td>MN815</td>\n",
       "      <td>A</td>\n",
       "      <td>79</td>\n",
       "      <td>6825</td>\n",
       "    </tr>\n",
       "    <tr>\n",
       "      <th>1</th>\n",
       "      <td>Eric Cloutier</td>\n",
       "      <td>PS34M</td>\n",
       "      <td>A</td>\n",
       "      <td>81</td>\n",
       "      <td>4514</td>\n",
       "    </tr>\n",
       "    <tr>\n",
       "      <th>2</th>\n",
       "      <td>Annie Houle</td>\n",
       "      <td>XD48T</td>\n",
       "      <td>B</td>\n",
       "      <td>47</td>\n",
       "      <td>6728</td>\n",
       "    </tr>\n",
       "  </tbody>\n",
       "</table>\n",
       "</div>"
      ],
      "text/plain": [
       "           patient   lien reactif  resultat  pseudonyme\n",
       "0  Fabrice Laprise  MN815       A        79        6825\n",
       "1    Eric Cloutier  PS34M       A        81        4514\n",
       "2      Annie Houle  XD48T       B        47        6728"
      ]
     },
     "execution_count": 34,
     "metadata": {},
     "output_type": "execute_result"
    }
   ],
   "source": [
    "#Supposons qu'on a le dataframe complet patient-pseudo\n",
    "table_entreprise = pd.merge(table_cor, table_pseudo)\n",
    "table_entreprise\n"
   ]
  },
  {
   "cell_type": "markdown",
   "id": "c0dc3969",
   "metadata": {},
   "source": [
    "#Obtenir le dataframe banque \n",
    "table_entreprise.drop([\"reactif\",\"resultat\",\"pseudonyme\"],axis=1, inplace=True)\n"
   ]
  },
  {
   "cell_type": "code",
   "execution_count": 36,
   "id": "bdcec517",
   "metadata": {},
   "outputs": [
    {
     "data": {
      "text/html": [
       "<div>\n",
       "<style scoped>\n",
       "    .dataframe tbody tr th:only-of-type {\n",
       "        vertical-align: middle;\n",
       "    }\n",
       "\n",
       "    .dataframe tbody tr th {\n",
       "        vertical-align: top;\n",
       "    }\n",
       "\n",
       "    .dataframe thead th {\n",
       "        text-align: right;\n",
       "    }\n",
       "</style>\n",
       "<table border=\"1\" class=\"dataframe\">\n",
       "  <thead>\n",
       "    <tr style=\"text-align: right;\">\n",
       "      <th></th>\n",
       "      <th>patient</th>\n",
       "      <th>lien</th>\n",
       "    </tr>\n",
       "  </thead>\n",
       "  <tbody>\n",
       "    <tr>\n",
       "      <th>0</th>\n",
       "      <td>Fabrice Laprise</td>\n",
       "      <td>MN815</td>\n",
       "    </tr>\n",
       "    <tr>\n",
       "      <th>1</th>\n",
       "      <td>Eric Cloutier</td>\n",
       "      <td>PS34M</td>\n",
       "    </tr>\n",
       "    <tr>\n",
       "      <th>2</th>\n",
       "      <td>Annie Houle</td>\n",
       "      <td>XD48T</td>\n",
       "    </tr>\n",
       "  </tbody>\n",
       "</table>\n",
       "</div>"
      ],
      "text/plain": [
       "           patient   lien\n",
       "0  Fabrice Laprise  MN815\n",
       "1    Eric Cloutier  PS34M\n",
       "2      Annie Houle  XD48T"
      ]
     },
     "execution_count": 36,
     "metadata": {},
     "output_type": "execute_result"
    }
   ],
   "source": [
    "table_entreprise"
   ]
  },
  {
   "cell_type": "code",
   "execution_count": 37,
   "id": "983110b6",
   "metadata": {},
   "outputs": [
    {
     "data": {
      "text/html": [
       "<div>\n",
       "<style scoped>\n",
       "    .dataframe tbody tr th:only-of-type {\n",
       "        vertical-align: middle;\n",
       "    }\n",
       "\n",
       "    .dataframe tbody tr th {\n",
       "        vertical-align: top;\n",
       "    }\n",
       "\n",
       "    .dataframe thead th {\n",
       "        text-align: right;\n",
       "    }\n",
       "</style>\n",
       "<table border=\"1\" class=\"dataframe\">\n",
       "  <thead>\n",
       "    <tr style=\"text-align: right;\">\n",
       "      <th></th>\n",
       "      <th>lien</th>\n",
       "    </tr>\n",
       "  </thead>\n",
       "  <tbody>\n",
       "    <tr>\n",
       "      <th>0</th>\n",
       "      <td>MN815</td>\n",
       "    </tr>\n",
       "    <tr>\n",
       "      <th>1</th>\n",
       "      <td>PS34M</td>\n",
       "    </tr>\n",
       "    <tr>\n",
       "      <th>2</th>\n",
       "      <td>XD48T</td>\n",
       "    </tr>\n",
       "  </tbody>\n",
       "</table>\n",
       "</div>"
      ],
      "text/plain": [
       "    lien\n",
       "0  MN815\n",
       "1  PS34M\n",
       "2  XD48T"
      ]
     },
     "execution_count": 37,
     "metadata": {},
     "output_type": "execute_result"
    }
   ],
   "source": [
    "#sauvegarder le data transformé\n",
    "table_entreprise.to_csv(\"reactif_patient_banque.csv\", index=False)\n",
    "#Obtenir le dataframe entreprise\n",
    "table_entreprise.drop(\"patient\",axis=1, inplace=True)\n",
    "table_entreprise"
   ]
  },
  {
   "cell_type": "code",
   "execution_count": 38,
   "id": "dea7123e",
   "metadata": {},
   "outputs": [],
   "source": [
    "#sauvegarder le data transformé dqns un fichier de type csv\n",
    "table_entreprise.to_csv(\"reactif_patient_entreprise.csv\", index=False)"
   ]
  },
  {
   "cell_type": "markdown",
   "id": "5082dfe8",
   "metadata": {},
   "source": [
    "\n",
    "<font color='red'> 3- Generalisation </font> "
   ]
  },
  {
   "cell_type": "markdown",
   "id": "b5947aa7",
   "metadata": {},
   "source": [
    "***\n",
    "En considérant le fichier data_patient_age.csv, procédons à l'anonymisation de la série age en\n",
    "utilisant les intervalles d’age au lieu de l’age exact. La table d’intervalle est la suivante :\n",
    "***\n",
    "| Age patient | Plage |\n",
    "| --- | --- |\n",
    "| Plage 1 | < 20 |\n",
    "| Plage 2 | < 20 - 30 |\n",
    "| Plage 3 | 31 - 40 |\n",
    "| Plage 4 | 41 - 50 |\n",
    "| Plage 5 | > 50 |"
   ]
  },
  {
   "cell_type": "code",
   "execution_count": 43,
   "id": "e45e03e8",
   "metadata": {},
   "outputs": [
    {
     "data": {
      "text/html": [
       "<div>\n",
       "<style scoped>\n",
       "    .dataframe tbody tr th:only-of-type {\n",
       "        vertical-align: middle;\n",
       "    }\n",
       "\n",
       "    .dataframe tbody tr th {\n",
       "        vertical-align: top;\n",
       "    }\n",
       "\n",
       "    .dataframe thead th {\n",
       "        text-align: right;\n",
       "    }\n",
       "</style>\n",
       "<table border=\"1\" class=\"dataframe\">\n",
       "  <thead>\n",
       "    <tr style=\"text-align: right;\">\n",
       "      <th></th>\n",
       "      <th>patient</th>\n",
       "      <th>age</th>\n",
       "      <th>reactif</th>\n",
       "      <th>resultat</th>\n",
       "    </tr>\n",
       "  </thead>\n",
       "  <tbody>\n",
       "    <tr>\n",
       "      <th>0</th>\n",
       "      <td>Fabrice Laprise</td>\n",
       "      <td>25</td>\n",
       "      <td>A</td>\n",
       "      <td>79</td>\n",
       "    </tr>\n",
       "    <tr>\n",
       "      <th>1</th>\n",
       "      <td>Eric Cloutier</td>\n",
       "      <td>35</td>\n",
       "      <td>A</td>\n",
       "      <td>81</td>\n",
       "    </tr>\n",
       "    <tr>\n",
       "      <th>2</th>\n",
       "      <td>Annie Houle</td>\n",
       "      <td>45</td>\n",
       "      <td>B</td>\n",
       "      <td>47</td>\n",
       "    </tr>\n",
       "  </tbody>\n",
       "</table>\n",
       "</div>"
      ],
      "text/plain": [
       "           patient  age reactif  resultat\n",
       "0  Fabrice Laprise   25       A        79\n",
       "1    Eric Cloutier   35       A        81\n",
       "2      Annie Houle   45       B        47"
      ]
     },
     "execution_count": 43,
     "metadata": {},
     "output_type": "execute_result"
    }
   ],
   "source": [
    "import pandas as pd\n",
    "df = pd.read_csv(\"data_patient_age.csv\")\n",
    "df"
   ]
  },
  {
   "cell_type": "code",
   "execution_count": 44,
   "id": "2d4ca4a5",
   "metadata": {},
   "outputs": [
    {
     "data": {
      "text/html": [
       "<div>\n",
       "<style scoped>\n",
       "    .dataframe tbody tr th:only-of-type {\n",
       "        vertical-align: middle;\n",
       "    }\n",
       "\n",
       "    .dataframe tbody tr th {\n",
       "        vertical-align: top;\n",
       "    }\n",
       "\n",
       "    .dataframe thead th {\n",
       "        text-align: right;\n",
       "    }\n",
       "</style>\n",
       "<table border=\"1\" class=\"dataframe\">\n",
       "  <thead>\n",
       "    <tr style=\"text-align: right;\">\n",
       "      <th></th>\n",
       "      <th>patient</th>\n",
       "      <th>age_interval</th>\n",
       "      <th>reactif</th>\n",
       "      <th>resultat</th>\n",
       "    </tr>\n",
       "  </thead>\n",
       "  <tbody>\n",
       "    <tr>\n",
       "      <th>0</th>\n",
       "      <td>Fabrice Laprise</td>\n",
       "      <td>20-30</td>\n",
       "      <td>A</td>\n",
       "      <td>79</td>\n",
       "    </tr>\n",
       "    <tr>\n",
       "      <th>1</th>\n",
       "      <td>Eric Cloutier</td>\n",
       "      <td>31-40</td>\n",
       "      <td>A</td>\n",
       "      <td>81</td>\n",
       "    </tr>\n",
       "    <tr>\n",
       "      <th>2</th>\n",
       "      <td>Annie Houle</td>\n",
       "      <td>41-50</td>\n",
       "      <td>B</td>\n",
       "      <td>47</td>\n",
       "    </tr>\n",
       "  </tbody>\n",
       "</table>\n",
       "</div>"
      ],
      "text/plain": [
       "           patient age_interval reactif  resultat\n",
       "0  Fabrice Laprise        20-30       A        79\n",
       "1    Eric Cloutier        31-40       A        81\n",
       "2      Annie Houle        41-50       B        47"
      ]
     },
     "execution_count": 44,
     "metadata": {},
     "output_type": "execute_result"
    }
   ],
   "source": [
    "#appliquons une coorespondance avec categories ou plage des ages pour procéder au masquage l'age exacte du patient\n",
    "df[\"age_interval\"] = df[\"age\"].map(lambda x: \"<20\" if x < 20 else\n",
    "                                  \"20-30\" if x < 30 else\n",
    "                                  \"31-40\" if x < 40 else\n",
    "                                  \"41-50\" if x < 50 else\n",
    "                                  \">50\")\n",
    "df.drop(\"age\", axis=1, inplace=True)\n",
    "df=df[[\"patient\",\"age_interval\", \"reactif\",\"resultat\"]]\n",
    "df"
   ]
  },
  {
   "cell_type": "code",
   "execution_count": null,
   "id": "3e18df45",
   "metadata": {},
   "outputs": [],
   "source": [
    "df"
   ]
  }
 ],
 "metadata": {
  "kernelspec": {
   "display_name": "Python 3 (ipykernel)",
   "language": "python",
   "name": "python3"
  },
  "language_info": {
   "codemirror_mode": {
    "name": "ipython",
    "version": 3
   },
   "file_extension": ".py",
   "mimetype": "text/x-python",
   "name": "python",
   "nbconvert_exporter": "python",
   "pygments_lexer": "ipython3",
   "version": "3.9.7"
  }
 },
 "nbformat": 4,
 "nbformat_minor": 5
}
